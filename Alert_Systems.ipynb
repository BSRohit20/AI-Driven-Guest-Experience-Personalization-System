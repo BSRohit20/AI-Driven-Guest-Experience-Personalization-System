{
  "nbformat": 4,
  "nbformat_minor": 0,
  "metadata": {
    "colab": {
      "provenance": []
    },
    "kernelspec": {
      "name": "python3",
      "display_name": "Python 3"
    },
    "language_info": {
      "name": "python"
    },
    "widgets": {
      "application/vnd.jupyter.widget-state+json": {
        "2017c070c91d4059bd56db82db41311b": {
          "model_module": "@jupyter-widgets/controls",
          "model_name": "TextareaModel",
          "model_module_version": "1.5.0",
          "state": {
            "_dom_classes": [],
            "_model_module": "@jupyter-widgets/controls",
            "_model_module_version": "1.5.0",
            "_model_name": "TextareaModel",
            "_view_count": null,
            "_view_module": "@jupyter-widgets/controls",
            "_view_module_version": "1.5.0",
            "_view_name": "TextareaView",
            "continuous_update": true,
            "description": "Feedback:",
            "description_tooltip": null,
            "disabled": false,
            "layout": "IPY_MODEL_5f9632a24ef04879ac2f6585d559214b",
            "placeholder": "Enter hotel guest feedback here...",
            "rows": null,
            "style": "IPY_MODEL_46db67e352a04d8eb70f8233bd0ef857",
            "value": ""
          }
        },
        "5f9632a24ef04879ac2f6585d559214b": {
          "model_module": "@jupyter-widgets/base",
          "model_name": "LayoutModel",
          "model_module_version": "1.2.0",
          "state": {
            "_model_module": "@jupyter-widgets/base",
            "_model_module_version": "1.2.0",
            "_model_name": "LayoutModel",
            "_view_count": null,
            "_view_module": "@jupyter-widgets/base",
            "_view_module_version": "1.2.0",
            "_view_name": "LayoutView",
            "align_content": null,
            "align_items": null,
            "align_self": null,
            "border": null,
            "bottom": null,
            "display": null,
            "flex": null,
            "flex_flow": null,
            "grid_area": null,
            "grid_auto_columns": null,
            "grid_auto_flow": null,
            "grid_auto_rows": null,
            "grid_column": null,
            "grid_gap": null,
            "grid_row": null,
            "grid_template_areas": null,
            "grid_template_columns": null,
            "grid_template_rows": null,
            "height": "100px",
            "justify_content": null,
            "justify_items": null,
            "left": null,
            "margin": null,
            "max_height": null,
            "max_width": null,
            "min_height": null,
            "min_width": null,
            "object_fit": null,
            "object_position": null,
            "order": null,
            "overflow": null,
            "overflow_x": null,
            "overflow_y": null,
            "padding": null,
            "right": null,
            "top": null,
            "visibility": null,
            "width": "50%"
          }
        },
        "46db67e352a04d8eb70f8233bd0ef857": {
          "model_module": "@jupyter-widgets/controls",
          "model_name": "DescriptionStyleModel",
          "model_module_version": "1.5.0",
          "state": {
            "_model_module": "@jupyter-widgets/controls",
            "_model_module_version": "1.5.0",
            "_model_name": "DescriptionStyleModel",
            "_view_count": null,
            "_view_module": "@jupyter-widgets/base",
            "_view_module_version": "1.2.0",
            "_view_name": "StyleView",
            "description_width": ""
          }
        },
        "8480f5f26b29428ca7e441eac45863dd": {
          "model_module": "@jupyter-widgets/controls",
          "model_name": "ButtonModel",
          "model_module_version": "1.5.0",
          "state": {
            "_dom_classes": [],
            "_model_module": "@jupyter-widgets/controls",
            "_model_module_version": "1.5.0",
            "_model_name": "ButtonModel",
            "_view_count": null,
            "_view_module": "@jupyter-widgets/controls",
            "_view_module_version": "1.5.0",
            "_view_name": "ButtonView",
            "button_style": "primary",
            "description": "Analyze Feedback",
            "disabled": false,
            "icon": "search",
            "layout": "IPY_MODEL_04213fb4e30140fcb0a3671b2e808819",
            "style": "IPY_MODEL_ec43cd47e9b945e8adea87919cac0ccf",
            "tooltip": "Click to analyze the feedback"
          }
        },
        "04213fb4e30140fcb0a3671b2e808819": {
          "model_module": "@jupyter-widgets/base",
          "model_name": "LayoutModel",
          "model_module_version": "1.2.0",
          "state": {
            "_model_module": "@jupyter-widgets/base",
            "_model_module_version": "1.2.0",
            "_model_name": "LayoutModel",
            "_view_count": null,
            "_view_module": "@jupyter-widgets/base",
            "_view_module_version": "1.2.0",
            "_view_name": "LayoutView",
            "align_content": null,
            "align_items": null,
            "align_self": null,
            "border": null,
            "bottom": null,
            "display": null,
            "flex": null,
            "flex_flow": null,
            "grid_area": null,
            "grid_auto_columns": null,
            "grid_auto_flow": null,
            "grid_auto_rows": null,
            "grid_column": null,
            "grid_gap": null,
            "grid_row": null,
            "grid_template_areas": null,
            "grid_template_columns": null,
            "grid_template_rows": null,
            "height": null,
            "justify_content": null,
            "justify_items": null,
            "left": null,
            "margin": null,
            "max_height": null,
            "max_width": null,
            "min_height": null,
            "min_width": null,
            "object_fit": null,
            "object_position": null,
            "order": null,
            "overflow": null,
            "overflow_x": null,
            "overflow_y": null,
            "padding": null,
            "right": null,
            "top": null,
            "visibility": null,
            "width": null
          }
        },
        "ec43cd47e9b945e8adea87919cac0ccf": {
          "model_module": "@jupyter-widgets/controls",
          "model_name": "ButtonStyleModel",
          "model_module_version": "1.5.0",
          "state": {
            "_model_module": "@jupyter-widgets/controls",
            "_model_module_version": "1.5.0",
            "_model_name": "ButtonStyleModel",
            "_view_count": null,
            "_view_module": "@jupyter-widgets/base",
            "_view_module_version": "1.2.0",
            "_view_name": "StyleView",
            "button_color": null,
            "font_weight": ""
          }
        },
        "ea3adea81dc645448840296a7ca75b34": {
          "model_module": "@jupyter-widgets/controls",
          "model_name": "LabelModel",
          "model_module_version": "1.5.0",
          "state": {
            "_dom_classes": [],
            "_model_module": "@jupyter-widgets/controls",
            "_model_module_version": "1.5.0",
            "_model_name": "LabelModel",
            "_view_count": null,
            "_view_module": "@jupyter-widgets/controls",
            "_view_module_version": "1.5.0",
            "_view_name": "LabelView",
            "description": "",
            "description_tooltip": null,
            "layout": "IPY_MODEL_66025f05258749848a00a66d4b0c6a53",
            "placeholder": "​",
            "style": "IPY_MODEL_5fe27a1ee3784452932e27413e5c7838",
            "value": "Sentiment Analysis Result:"
          }
        },
        "66025f05258749848a00a66d4b0c6a53": {
          "model_module": "@jupyter-widgets/base",
          "model_name": "LayoutModel",
          "model_module_version": "1.2.0",
          "state": {
            "_model_module": "@jupyter-widgets/base",
            "_model_module_version": "1.2.0",
            "_model_name": "LayoutModel",
            "_view_count": null,
            "_view_module": "@jupyter-widgets/base",
            "_view_module_version": "1.2.0",
            "_view_name": "LayoutView",
            "align_content": null,
            "align_items": null,
            "align_self": null,
            "border": null,
            "bottom": null,
            "display": null,
            "flex": null,
            "flex_flow": null,
            "grid_area": null,
            "grid_auto_columns": null,
            "grid_auto_flow": null,
            "grid_auto_rows": null,
            "grid_column": null,
            "grid_gap": null,
            "grid_row": null,
            "grid_template_areas": null,
            "grid_template_columns": null,
            "grid_template_rows": null,
            "height": null,
            "justify_content": null,
            "justify_items": null,
            "left": null,
            "margin": null,
            "max_height": null,
            "max_width": null,
            "min_height": null,
            "min_width": null,
            "object_fit": null,
            "object_position": null,
            "order": null,
            "overflow": null,
            "overflow_x": null,
            "overflow_y": null,
            "padding": null,
            "right": null,
            "top": null,
            "visibility": null,
            "width": null
          }
        },
        "5fe27a1ee3784452932e27413e5c7838": {
          "model_module": "@jupyter-widgets/controls",
          "model_name": "DescriptionStyleModel",
          "model_module_version": "1.5.0",
          "state": {
            "_model_module": "@jupyter-widgets/controls",
            "_model_module_version": "1.5.0",
            "_model_name": "DescriptionStyleModel",
            "_view_count": null,
            "_view_module": "@jupyter-widgets/base",
            "_view_module_version": "1.2.0",
            "_view_name": "StyleView",
            "description_width": ""
          }
        },
        "55927591f329404089e2c847e126073c": {
          "model_module": "@jupyter-widgets/output",
          "model_name": "OutputModel",
          "model_module_version": "1.0.0",
          "state": {
            "_dom_classes": [],
            "_model_module": "@jupyter-widgets/output",
            "_model_module_version": "1.0.0",
            "_model_name": "OutputModel",
            "_view_count": null,
            "_view_module": "@jupyter-widgets/output",
            "_view_module_version": "1.0.0",
            "_view_name": "OutputView",
            "layout": "IPY_MODEL_fe8ec55277c644cb8a1e95f3918245fb",
            "msg_id": "",
            "outputs": []
          }
        },
        "fe8ec55277c644cb8a1e95f3918245fb": {
          "model_module": "@jupyter-widgets/base",
          "model_name": "LayoutModel",
          "model_module_version": "1.2.0",
          "state": {
            "_model_module": "@jupyter-widgets/base",
            "_model_module_version": "1.2.0",
            "_model_name": "LayoutModel",
            "_view_count": null,
            "_view_module": "@jupyter-widgets/base",
            "_view_module_version": "1.2.0",
            "_view_name": "LayoutView",
            "align_content": null,
            "align_items": null,
            "align_self": null,
            "border": null,
            "bottom": null,
            "display": null,
            "flex": null,
            "flex_flow": null,
            "grid_area": null,
            "grid_auto_columns": null,
            "grid_auto_flow": null,
            "grid_auto_rows": null,
            "grid_column": null,
            "grid_gap": null,
            "grid_row": null,
            "grid_template_areas": null,
            "grid_template_columns": null,
            "grid_template_rows": null,
            "height": null,
            "justify_content": null,
            "justify_items": null,
            "left": null,
            "margin": null,
            "max_height": null,
            "max_width": null,
            "min_height": null,
            "min_width": null,
            "object_fit": null,
            "object_position": null,
            "order": null,
            "overflow": null,
            "overflow_x": null,
            "overflow_y": null,
            "padding": null,
            "right": null,
            "top": null,
            "visibility": null,
            "width": null
          }
        }
      }
    }
  },
  "cells": [
    {
      "cell_type": "code",
      "execution_count": 1,
      "metadata": {
        "id": "2wvKW6fIYr6v",
        "colab": {
          "base_uri": "https://localhost:8080/"
        },
        "outputId": "ec0cc0ae-3f87-48c5-decb-1040c5fe6303"
      },
      "outputs": [
        {
          "output_type": "stream",
          "name": "stdout",
          "text": [
            "Collecting slack_sdk\n",
            "  Downloading slack_sdk-3.34.0-py2.py3-none-any.whl.metadata (15 kB)\n",
            "Downloading slack_sdk-3.34.0-py2.py3-none-any.whl (292 kB)\n",
            "\u001b[2K   \u001b[90m━━━━━━━━━━━━━━━━━━━━━━━━━━━━━━━━━━━━━━━━\u001b[0m \u001b[32m292.5/292.5 kB\u001b[0m \u001b[31m4.7 MB/s\u001b[0m eta \u001b[36m0:00:00\u001b[0m\n",
            "\u001b[?25hInstalling collected packages: slack_sdk\n",
            "Successfully installed slack_sdk-3.34.0\n"
          ]
        }
      ],
      "source": [
        "!pip install slack_sdk\n"
      ]
    },
    {
      "cell_type": "code",
      "source": [
        "import json\n",
        "import smtplib\n",
        "from email.mime.text import MIMEText\n",
        "from email.mime.multipart import MIMEMultipart\n",
        "from pydantic import BaseModel\n",
        "from slack_sdk.webhook import WebhookClient\n",
        "import ipywidgets as widgets\n",
        "from IPython.display import display\n",
        "from datetime import datetime\n",
        "from openai import OpenAI\n",
        "\n",
        "client = OpenAI(base_url=\"https://openrouter.ai/api/v1\", api_key=\"Your_API_Key\")\n",
        "\n",
        "SLACK_WEBHOOK_URL = \"WEBHOOK_URL\"\n",
        "slack_client = WebhookClient(SLACK_WEBHOOK_URL)\n",
        "\n",
        "GMAIL_USER = \"your_email@gmail.com\"\n",
        "GMAIL_PASSWORD = \"app_password\"\n",
        "\n",
        "class Sentiment(BaseModel):\n",
        "    sentiment: str\n",
        "    responsible_area: str\n",
        "\n",
        "def send_slack_alert(feedback, sentiment, areas_of_concern):\n",
        "    try:\n",
        "        timestamp = datetime.now().strftime(\"%Y-%m-%d %H:%M:%S\")\n",
        "        slack_message = f\"\"\"\n",
        "        🚨 *Negative Feedback Alert* 🚨\n",
        "        *Timestamp:* {timestamp}\n",
        "        *Feedback:* {feedback}\n",
        "        *Sentiment:* {sentiment.upper()}\n",
        "        *Areas of Concern:* {', '.join(areas_of_concern)}\n",
        "        \"\"\"\n",
        "        slack_client.send(text=slack_message)\n",
        "    except Exception as e:\n",
        "        print(f\"Error sending Slack alert: {e}\")\n",
        "\n",
        "def send_email_alert(feedback, sentiment, areas_of_concern):\n",
        "    try:\n",
        "        timestamp = datetime.now().strftime(\"%Y-%m-%d %H:%M:%S\")\n",
        "        subject = \"🚨 Negative Feedback Alert 🚨\"\n",
        "        body = f\"\"\"\n",
        "        Negative Feedback Alert\n",
        "\n",
        "        Timestamp: {timestamp}\n",
        "        Feedback: {feedback}\n",
        "        Sentiment: {sentiment.upper()}\n",
        "        Areas of Concern: {', '.join(areas_of_concern)}\n",
        "        \"\"\"\n",
        "\n",
        "        msg = MIMEMultipart()\n",
        "        msg['From'] = GMAIL_USER\n",
        "        msg['To'] = GMAIL_USER\n",
        "        msg['Subject'] = subject\n",
        "        msg.attach(MIMEText(body, 'plain'))\n",
        "\n",
        "        with smtplib.SMTP('smtp.gmail.com', 587) as server:\n",
        "            server.starttls()\n",
        "            server.login(GMAIL_USER, GMAIL_PASSWORD)\n",
        "            server.sendmail(GMAIL_USER, GMAIL_USER, msg.as_string())\n",
        "\n",
        "        print(\"📧 Email alert sent!\")\n",
        "\n",
        "    except Exception as e:\n",
        "        print(f\"Error sending email alert: {e}\")\n",
        "\n",
        "def provide_sentiment(feedback: str):\n",
        "    try:\n",
        "        print(\"🔍 Analyzing feedback...\")\n",
        "        completion = client.chat.completions.create(\n",
        "            temperature=0,\n",
        "            model=\"google/learnlm-1.5-pro-experimental:free\",\n",
        "            messages=[\n",
        "                {\"role\": \"system\", \"content\": \"\"\"You are an assistant that analyzes hotel guest feedback and provides sentiment analysis in JSON format. The sentiment should be Positive, Negative, or Neutral. If the sentiment is Negative, identify the specific area responsible for the feedback, including one or more of the following categories: 'Room Quality', 'Cleanliness', 'Staff Service', 'Food & Beverage', 'Amenities', 'Check-in/Check-out Process', 'Location', 'Pricing', 'Noise', 'Safety', 'Guest Room Comfort', 'Bathroom Facilities', 'Hotel Ambience', 'Parking', 'Eco-friendliness', 'Pet Policy', 'Business Facilities', 'Spa & Wellness', and 'Other'. If no specific area applies, return 'N/A'. Ensure that responses are clear and helpful.\"\"\"},\n",
        "                {\"role\": \"user\", \"content\": f\"Here is a feedback for analysis: \\\"{feedback}\\\"\"}\n",
        "            ]\n",
        "        )\n",
        "        sentiment_response = completion['choices'][0]['message']['content']\n",
        "        sentiment_data = json.loads(sentiment_response)\n",
        "\n",
        "        sentiment = sentiment_data.get(\"sentiment\", \"Error\")\n",
        "        areas_of_concern = sentiment_data.get(\"responsible_area\", \"N/A\").split(\", \")\n",
        "\n",
        "        print(\"✅ Analysis complete!\")\n",
        "        print(\"\\n**Sentiment Analysis Result:**\")\n",
        "        print(f\"Sentiment: {sentiment.upper()}\")\n",
        "        print(f\"Areas of Concern: {', '.join(areas_of_concern)}\")\n",
        "\n",
        "        if sentiment.lower() == \"negative\":\n",
        "            send_slack_alert(feedback, sentiment, areas_of_concern)\n",
        "            send_email_alert(feedback, sentiment, areas_of_concern)\n",
        "\n",
        "    except Exception as e:\n",
        "        print(f\"Error occurred: {e}\")\n",
        "        print(\"\\n**Sentiment Analysis Result:**\")\n",
        "        print(\"Sentiment: ERROR\")\n",
        "        print(\"Areas of Concern: N/A\")\n",
        "\n",
        "feedback_input = widgets.Textarea(\n",
        "    value='',\n",
        "    placeholder='Enter hotel guest feedback here...',\n",
        "    description='Feedback:',\n",
        "    layout=widgets.Layout(width='50%', height='100px')\n",
        ")\n",
        "\n",
        "analyze_button = widgets.Button(\n",
        "    description='Analyze Feedback',\n",
        "    button_style='primary',\n",
        "    tooltip='Click to analyze the feedback',\n",
        "    icon='search'\n",
        ")\n",
        "\n",
        "output_label = widgets.Label(value=\"Sentiment Analysis Result:\")\n",
        "output_area = widgets.Output()\n",
        "\n",
        "def on_analyze_button_click(b):\n",
        "    feedback = feedback_input.value\n",
        "    with output_area:\n",
        "        output_area.clear_output()\n",
        "        provide_sentiment(feedback)\n",
        "\n",
        "analyze_button.on_click(on_analyze_button_click)\n",
        "\n",
        "display(feedback_input, analyze_button, output_label, output_area)\n"
      ],
      "metadata": {
        "colab": {
          "base_uri": "https://localhost:8080/",
          "height": 185,
          "referenced_widgets": [
            "2017c070c91d4059bd56db82db41311b",
            "5f9632a24ef04879ac2f6585d559214b",
            "46db67e352a04d8eb70f8233bd0ef857",
            "8480f5f26b29428ca7e441eac45863dd",
            "04213fb4e30140fcb0a3671b2e808819",
            "ec43cd47e9b945e8adea87919cac0ccf",
            "ea3adea81dc645448840296a7ca75b34",
            "66025f05258749848a00a66d4b0c6a53",
            "5fe27a1ee3784452932e27413e5c7838",
            "55927591f329404089e2c847e126073c",
            "fe8ec55277c644cb8a1e95f3918245fb"
          ]
        },
        "id": "lW3K-XIKeNOO",
        "outputId": "6c35f8fe-9c87-4b83-e409-4e7986f1b15d"
      },
      "execution_count": 2,
      "outputs": [
        {
          "output_type": "display_data",
          "data": {
            "text/plain": [
              "Textarea(value='', description='Feedback:', layout=Layout(height='100px', width='50%'), placeholder='Enter hot…"
            ],
            "application/vnd.jupyter.widget-view+json": {
              "version_major": 2,
              "version_minor": 0,
              "model_id": "2017c070c91d4059bd56db82db41311b"
            }
          },
          "metadata": {}
        },
        {
          "output_type": "display_data",
          "data": {
            "text/plain": [
              "Button(button_style='primary', description='Analyze Feedback', icon='search', style=ButtonStyle(), tooltip='Cl…"
            ],
            "application/vnd.jupyter.widget-view+json": {
              "version_major": 2,
              "version_minor": 0,
              "model_id": "8480f5f26b29428ca7e441eac45863dd"
            }
          },
          "metadata": {}
        },
        {
          "output_type": "display_data",
          "data": {
            "text/plain": [
              "Label(value='Sentiment Analysis Result:')"
            ],
            "application/vnd.jupyter.widget-view+json": {
              "version_major": 2,
              "version_minor": 0,
              "model_id": "ea3adea81dc645448840296a7ca75b34"
            }
          },
          "metadata": {}
        },
        {
          "output_type": "display_data",
          "data": {
            "text/plain": [
              "Output()"
            ],
            "application/vnd.jupyter.widget-view+json": {
              "version_major": 2,
              "version_minor": 0,
              "model_id": "55927591f329404089e2c847e126073c"
            }
          },
          "metadata": {}
        }
      ]
    }
  ]
}