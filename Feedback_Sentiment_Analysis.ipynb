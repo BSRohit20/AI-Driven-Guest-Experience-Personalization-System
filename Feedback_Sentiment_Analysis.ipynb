{
  "cells": [
    {
      "cell_type": "code",
      "source": [
        "from openai import OpenAI\n",
        "import openai\n",
        "from pydantic import BaseModel\n",
        "import pandas as pd\n",
        "\n",
        "# Initialize OpenAI client\n",
        "client = OpenAI(base_url=\"https://openrouter.ai/api/v1\", api_key=\"YOUR_API_KEY\")\n",
        "\n",
        "# Define the sentiment response model\n",
        "class Sentiment(BaseModel):\n",
        "    sentiment: str\n",
        "    responsible_area: str\n",
        "\n",
        "# Function to analyze sentiment with detailed feedback analysis\n",
        "def provide_sentiment(feedback: str):\n",
        "    try:\n",
        "        completion = client.chat.completions.create(\n",
        "            temperature=0,\n",
        "            model=\"google/learnlm-1.5-pro-experimental:free\",\n",
        "            messages=[\n",
        "                {\"role\": \"system\", \"content\": \"\"\"You are an assistant that analyzes hotel guest feedback and provides sentiment analysis in JSON format. The sentiment should be Positive, Negative, or Neutral. If the sentiment is Negative, identify the specific area responsible for the feedback, including one or more of the following categories: 'Room Quality', 'Cleanliness', 'Staff Service', 'Food & Beverage', 'Amenities', 'Check-in/Check-out Process', 'Location', 'Pricing', 'Noise', 'Safety', 'Guest Room Comfort', 'Bathroom Facilities', 'Hotel Ambience', 'Parking', 'Eco-friendliness', 'Pet Policy', 'Business Facilities', 'Spa & Wellness', and 'Other'. If no specific area applies, return 'N/A'. Ensure that responses are clear and helpful.\"\"\"},\n",
        "                {\"role\": \"user\", \"content\": \"Here is a feedback for analysis: \\\"The hotel room was fantastic, and the staff was friendly!\\\"\"},\n",
        "                {\"role\": \"assistant\", \"content\": \"{\\\"sentiment\\\": \\\"Positive\\\", \\\"responsible_area\\\": \\\"N/A\\\"}\"},\n",
        "                {\"role\": \"user\", \"content\": \"Here is a feedback for analysis: \\\"The room was dirty, and the staff were rude.\\\"\"},\n",
        "                {\"role\": \"assistant\", \"content\": \"{\\\"sentiment\\\": \\\"Negative\\\", \\\"responsible_area\\\": \\\"Room Quality, Staff Service\\\"}\"},\n",
        "                {\"role\": \"user\", \"content\": \"Here is a feedback for analysis: \\\"The breakfast was great, but the Wi-Fi was very slow.\\\"\"},\n",
        "                {\"role\": \"assistant\", \"content\": \"{\\\"sentiment\\\": \\\"Neutral\\\", \\\"responsible_area\\\": \\\"N/A\\\"}\"},\n",
        "                {\"role\": \"user\", \"content\": f\"Here is a feedback for analysis: \\\"{feedback}\\\"\"}\n",
        "            ]\n",
        "        )\n",
        "\n",
        "        # Validate and extract the response\n",
        "        if completion.choices and completion.choices[0].message:\n",
        "            sentiment_response = completion.choices[0].message.content\n",
        "            return sentiment_response\n",
        "        else:\n",
        "            return \"{\\\"sentiment\\\": \\\"Error\\\", \\\"responsible_area\\\": \\\"N/A\\\"}\"  # Return a default error response if the expected fields are missing\n",
        "\n",
        "    except Exception as e:\n",
        "        print(f\"Error occurred: {e}\")\n",
        "        return \"{\\\"sentiment\\\": \\\"Error\\\", \\\"responsible_area\\\": \\\"N/A\\\"}\"  # Return a default error response in case of an exception\n",
        "\n",
        "if __name__ == \"__main__\":\n",
        "    # Ask user for feedback input\n",
        "    feedback = input(\"Please enter the feedback to be analyzed: \")\n",
        "\n",
        "    # Analyze the feedback\n",
        "    sentiment = provide_sentiment(feedback)\n",
        "\n",
        "    # Print the feedback analysis result\n",
        "    print(\"Feedback Analysis Result:\", sentiment)\n"
      ],
      "metadata": {
        "id": "CLye-5VHVds7",
        "outputId": "52a7f24e-9bda-4424-da0e-da694377aed3",
        "colab": {
          "base_uri": "https://localhost:8080/"
        }
      },
      "execution_count": null,
      "outputs": [
        {
          "output_type": "stream",
          "name": "stdout",
          "text": [
            "Please enter the feedback to be analyzed: The room had terrible lighting, and the bathroom was not clean. The staff was rude too\n",
            "Feedback Analysis Result: {\"sentiment\": \"Negative\", \"responsible_area\": [\"Room Quality\", \"Cleanliness\", \"Bathroom Facilities\", \"Staff Service\"]} \n",
            "\n"
          ]
        }
      ]
    },
    {
      "cell_type": "code",
      "source": [
        "from openai import OpenAI\n",
        "import openai\n",
        "from pydantic import BaseModel\n",
        "import pandas as pd\n",
        "\n",
        "# Initialize OpenAI client\n",
        "client = OpenAI(base_url=\"https://openrouter.ai/api/v1\", api_key=\"YOUR_API_KEY\")\n",
        "\n",
        "# Define the sentiment response model\n",
        "class Sentiment(BaseModel):\n",
        "    sentiment: str\n",
        "    responsible_area: str\n",
        "\n",
        "# Function to analyze sentiment with detailed feedback analysis\n",
        "def provide_sentiment(feedback: str):\n",
        "    try:\n",
        "        completion = client.chat.completions.create(\n",
        "            temperature=0,\n",
        "            model=\"google/learnlm-1.5-pro-experimental:free\",\n",
        "            messages=[\n",
        "                {\"role\": \"system\", \"content\": \"\"\"You are an assistant that analyzes hotel guest feedback and provides sentiment analysis in JSON format. The sentiment should be Positive, Negative, or Neutral. If the sentiment is Negative, identify the specific area responsible for the feedback, including one or more of the following categories: 'Room Quality', 'Cleanliness', 'Staff Service', 'Food & Beverage', 'Amenities', 'Check-in/Check-out Process', 'Location', 'Pricing', 'Noise', 'Safety', 'Guest Room Comfort', 'Bathroom Facilities', 'Hotel Ambience', 'Parking', 'Eco-friendliness', 'Pet Policy', 'Business Facilities', 'Spa & Wellness', and 'Other'. If no specific area applies, return 'N/A'. Ensure that responses are clear and helpful.\"\"\"},\n",
        "                {\"role\": \"user\", \"content\": f\"Here is a feedback for analysis: \\\"{feedback}\\\"\"}\n",
        "            ]\n",
        "        )\n",
        "\n",
        "        # Validate and extract the response\n",
        "        if completion.choices and completion.choices[0].message:\n",
        "            sentiment_response = completion.choices[0].message.content\n",
        "            return sentiment_response\n",
        "        else:\n",
        "            return \"{\\\"sentiment\\\": \\\"Error\\\", \\\"responsible_area\\\": \\\"N/A\\\"}\"  # Return a default error response if the expected fields are missing\n",
        "\n",
        "    except Exception as e:\n",
        "        print(f\"Error occurred: {e}\")\n",
        "        return \"{\\\"sentiment\\\": \\\"Error\\\", \\\"responsible_area\\\": \\\"N/A\\\"}\"  # Return a default error response in case of an exception\n",
        "\n",
        "# Load the dataset (you can replace this with the actual dataset you are using, e.g., 'feedback.csv')\n",
        "def analyze_feedback_from_file(file_path: str, feedback_column: str):\n",
        "    # Load dataset using pandas (CSV or Excel file)\n",
        "    try:\n",
        "        # Read dataset (CSV example, you can change this to `pd.read_excel()` if it's an Excel file)\n",
        "        df = pd.read_csv(file_path)\n",
        "\n",
        "        # Add new columns to store sentiment analysis results\n",
        "        df['Sentiment'] = None\n",
        "        df['Responsible Area'] = None\n",
        "\n",
        "        # Loop through each feedback entry in the dataset and analyze it\n",
        "        for index, row in df.iterrows():\n",
        "            feedback = row[feedback_column]  # Use the provided column name for feedback\n",
        "            sentiment_analysis = provide_sentiment(feedback)\n",
        "\n",
        "            # Parse sentiment analysis result from JSON-like string to extract sentiment and responsible area\n",
        "            if sentiment_analysis.startswith(\"{\") and sentiment_analysis.endswith(\"}\"):\n",
        "                sentiment_data = eval(sentiment_analysis)  # Safely convert the string to a dictionary\n",
        "                df.at[index, 'Sentiment'] = sentiment_data.get('sentiment')\n",
        "                df.at[index, 'Responsible Area'] = sentiment_data.get('responsible_area')\n",
        "            else:\n",
        "                df.at[index, 'Sentiment'] = 'Error'\n",
        "                df.at[index, 'Responsible Area'] = 'N/A'\n",
        "\n",
        "        # Save the updated dataset to a new CSV file or Excel file\n",
        "        output_file = \"feedback_analysis_output.csv\"\n",
        "        df.to_csv(output_file, index=False)\n",
        "        print(f\"Analysis complete. Results saved to {output_file}\")\n",
        "\n",
        "    except Exception as e:\n",
        "        print(f\"Error occurred while processing the file: {e}\")\n",
        "\n",
        "if __name__ == \"__main__\":\n",
        "    # Specify the path to your local dataset (CSV or Excel)\n",
        "    file_path = input(\"Enter the path to the feedback dataset (e.g., feedback.csv): \")\n",
        "    feedback_column = input(\"Enter the column name containing the feedback (e.g., Review): \")\n",
        "\n",
        "    # Analyze feedback data from the file\n",
        "    analyze_feedback_from_file(file_path, feedback_column)\n"
      ],
      "metadata": {
        "colab": {
          "base_uri": "https://localhost:8080/"
        },
        "id": "aI-AeskxBlEG",
        "outputId": "1a21a2bb-be0e-40b4-8e4b-2e92fe7c269c"
      },
      "execution_count": null,
      "outputs": [
        {
          "name": "stdout",
          "output_type": "stream",
          "text": [
            "Enter the path to the feedback dataset (e.g., feedback.csv): /content/updated_customer_feedback.csv\n",
            "Enter the column name containing the feedback (e.g., Review): Reviews\n"
          ]
        }
      ]
    }
  ],
  "metadata": {
    "colab": {
      "provenance": []
    },
    "kernelspec": {
      "display_name": "Python 3",
      "name": "python3"
    },
    "language_info": {
      "name": "python"
    }
  },
  "nbformat": 4,
  "nbformat_minor": 0
}