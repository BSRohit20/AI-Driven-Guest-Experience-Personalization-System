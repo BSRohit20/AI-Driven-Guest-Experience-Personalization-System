{
  "nbformat": 4,
  "nbformat_minor": 0,
  "metadata": {
    "colab": {
      "provenance": []
    },
    "kernelspec": {
      "name": "python3",
      "display_name": "Python 3"
    },
    "language_info": {
      "name": "python"
    }
  },
  "cells": [
    {
      "cell_type": "code",
      "source": [
        "!pip install slack-sdk\n"
      ],
      "metadata": {
        "colab": {
          "base_uri": "https://localhost:8080/"
        },
        "id": "-qPBBcMXRQbr",
        "outputId": "3a6806e5-2667-46a1-f553-d39748f82710"
      },
      "execution_count": null,
      "outputs": [
        {
          "output_type": "stream",
          "name": "stdout",
          "text": [
            "Collecting slack-sdk\n",
            "  Downloading slack_sdk-3.34.0-py2.py3-none-any.whl.metadata (15 kB)\n",
            "Downloading slack_sdk-3.34.0-py2.py3-none-any.whl (292 kB)\n",
            "\u001b[?25l   \u001b[90m━━━━━━━━━━━━━━━━━━━━━━━━━━━━━━━━━━━━━━━━\u001b[0m \u001b[32m0.0/292.5 kB\u001b[0m \u001b[31m?\u001b[0m eta \u001b[36m-:--:--\u001b[0m\r\u001b[2K   \u001b[91m━━━━━━━━━━━━━━━━━━━━━━━━━━━━━━━━━━━━━━━\u001b[0m\u001b[90m╺\u001b[0m \u001b[32m286.7/292.5 kB\u001b[0m \u001b[31m11.2 MB/s\u001b[0m eta \u001b[36m0:00:01\u001b[0m\r\u001b[2K   \u001b[90m━━━━━━━━━━━━━━━━━━━━━━━━━━━━━━━━━━━━━━━━\u001b[0m \u001b[32m292.5/292.5 kB\u001b[0m \u001b[31m7.4 MB/s\u001b[0m eta \u001b[36m0:00:00\u001b[0m\n",
            "\u001b[?25hInstalling collected packages: slack-sdk\n",
            "Successfully installed slack-sdk-3.34.0\n"
          ]
        }
      ]
    },
    {
      "cell_type": "code",
      "execution_count": null,
      "metadata": {
        "id": "NFt1C6PrUr9z"
      },
      "outputs": [],
      "source": [
        "import json\n",
        "from pydantic import BaseModel\n",
        "from slack_sdk.webhook import WebhookClient\n",
        "import ipywidgets as widgets\n",
        "from IPython.display import display\n",
        "from datetime import datetime\n",
        "from openai import OpenAI\n",
        "\n",
        "client = OpenAI(base_url=\"https://openrouter.ai/api/v1\", api_key=\"Your_API_Key\")\n",
        "\n",
        "SLACK_WEBHOOK_URL = \"WEBHOOK_URL\"\n",
        "slack_client = WebhookClient(SLACK_WEBHOOK_URL)\n",
        "\n",
        "class Sentiment(BaseModel):\n",
        "    sentiment: str\n",
        "    responsible_area: str\n",
        "\n",
        "def send_slack_alert(feedback, sentiment, areas_of_concern):\n",
        "    try:\n",
        "        timestamp = datetime.now().strftime(\"%Y-%m-%d %H:%M:%S\")\n",
        "        slack_message = f\"\"\"\n",
        "        🚨 *Negative Feedback Alert* 🚨\n",
        "        *Timestamp:* {timestamp}\n",
        "        *Feedback:* {feedback}\n",
        "        *Sentiment:* {sentiment.upper()}\n",
        "        *Areas of Concern:* {', '.join(areas_of_concern)}\n",
        "        \"\"\"\n",
        "        slack_client.send(text=slack_message)\n",
        "    except Exception as e:\n",
        "        print(f\"Error sending Slack alert: {e}\")\n",
        "\n",
        "def provide_sentiment(feedback: str):\n",
        "    try:\n",
        "        print(\"🔍 Analyzing feedback...\")\n",
        "        completion = client.chat.completions.create(\n",
        "            temperature=0,\n",
        "            model=\"google/learnlm-1.5-pro-experimental:free\",\n",
        "            messages=[\n",
        "                {\"role\": \"system\", \"content\": \"\"\"You are an assistant that analyzes hotel guest feedback and provides sentiment analysis in JSON format. The sentiment should be Positive, Negative, or Neutral. If the sentiment is Negative, identify the specific area responsible for the feedback, including one or more of the following categories: 'Room Quality', 'Cleanliness', 'Staff Service', 'Food & Beverage', 'Amenities', 'Check-in/Check-out Process', 'Location', 'Pricing', 'Noise', 'Safety', 'Guest Room Comfort', 'Bathroom Facilities', 'Hotel Ambience', 'Parking', 'Eco-friendliness', 'Pet Policy', 'Business Facilities', 'Spa & Wellness', and 'Other'. If no specific area applies, return 'N/A'. Ensure that responses are clear and helpful.\"\"\"},\n",
        "                {\"role\": \"user\", \"content\": f\"Here is a feedback for analysis: \\\"{feedback}\\\"\"}\n",
        "            ]\n",
        "        )\n",
        "        sentiment_response = completion['choices'][0]['message']['content']\n",
        "        sentiment_data = json.loads(sentiment_response)\n",
        "\n",
        "        sentiment = sentiment_data.get(\"sentiment\", \"Error\")\n",
        "        areas_of_concern = sentiment_data.get(\"responsible_area\", \"N/A\").split(\", \")\n",
        "\n",
        "        print(\"✅ Analysis complete!\")\n",
        "        print(\"\\n**Sentiment Analysis Result:**\")\n",
        "        print(f\"Sentiment: {sentiment.upper()}\")\n",
        "        print(f\"Areas of Concern: {', '.join(areas_of_concern)}\")\n",
        "\n",
        "        if sentiment.lower() == \"negative\":\n",
        "            send_slack_alert(feedback, sentiment, areas_of_concern)\n",
        "\n",
        "    except Exception as e:\n",
        "        print(f\"Error occurred: {e}\")\n",
        "        print(\"\\n**Sentiment Analysis Result:**\")\n",
        "        print(\"Sentiment: ERROR\")\n",
        "        print(\"Areas of Concern: N/A\")\n",
        "\n",
        "feedback_input = widgets.Textarea(\n",
        "    value='',\n",
        "    placeholder='Enter hotel guest feedback here...',\n",
        "    description='Feedback:',\n",
        "    layout=widgets.Layout(width='50%', height='100px')\n",
        ")\n",
        "\n",
        "analyze_button = widgets.Button(\n",
        "    description='Analyze Feedback',\n",
        "    button_style='primary',\n",
        "    tooltip='Click to analyze the feedback',\n",
        "    icon='search'\n",
        ")\n",
        "\n",
        "output_label = widgets.Label(value=\"Sentiment Analysis Result:\")\n",
        "output_area = widgets.Output()\n",
        "\n",
        "def on_analyze_button_click(b):\n",
        "    feedback = feedback_input.value\n",
        "    with output_area:\n",
        "        output_area.clear_output()\n",
        "        provide_sentiment(feedback)\n",
        "\n",
        "analyze_button.on_click(on_analyze_button_click)\n",
        "\n",
        "display(feedback_input, analyze_button, output_label, output_area)\n"
      ]
    }
  ]
}