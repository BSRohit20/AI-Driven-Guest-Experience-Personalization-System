{
  "cells": [
    {
      "cell_type": "code",
      "execution_count": 2,
      "metadata": {
        "id": "c4dq3hsqJtby"
      },
      "outputs": [],
      "source": [
        "from huggingface_hub import login\n",
        "login(\"API_KEY\")" #Add your api key created in hugging face
      ]
    },
    {
      "cell_type": "code",
      "execution_count": null,
      "metadata": {
        "id": "tZJXZXW3HBIr"
      },
      "outputs": [],
      "source": [
        "import pandas as pd\n",
        "from transformers import pipeline\n",
        "\n",
        "data_path = 'diverse_customer_feedback.csv'  \n",
        "data = pd.read_csv(data_path)\n",
        "\n",
        "sentiment_pipeline = pipeline(\"sentiment-analysis\", model=\"distilbert-base-uncased-finetuned-sst-2-english\")\n",
        "\n",
        "def analyze_sentiment(review):\n",
        "    result = sentiment_pipeline(review)[0]\n",
        "    return result['label'], result['score']\n",
        "\n",
        "data[['Sentiment', 'Confidence']] = data['Reviews'].apply(lambda x: pd.Series(analyze_sentiment(x)))\n",
        "\n",
        "output_path = 'sentiment_analysis_results.csv'\n",
        "data.to_csv(output_path, index=False)\n",
        "\n",
        "print(f\"Sentiment analysis complete. Results saved to {output_path}.\")"
      ]
    }
  ],
  "metadata": {
    "colab": {
      "provenance": []
    },
    "kernelspec": {
      "display_name": "Python 3",
      "name": "python3"
    },
    "language_info": {
      "name": "python"
    }
  },
  "nbformat": 4,
  "nbformat_minor": 0
}
