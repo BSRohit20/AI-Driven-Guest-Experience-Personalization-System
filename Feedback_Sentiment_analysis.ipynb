{
  "nbformat": 4,
  "nbformat_minor": 0,
  "metadata": {
    "colab": {
      "provenance": []
    },
    "kernelspec": {
      "name": "python3",
      "display_name": "Python 3"
    },
    "language_info": {
      "name": "python"
    }
  },
  "cells": [
    {
      "cell_type": "code",
      "source": [
        "from huggingface_hub import login\n",
        "login(\"your_huggingface_token\")"
      ],
      "metadata": {
        "id": "c4dq3hsqJtby"
      },
      "execution_count": null,
      "outputs": []
    },
    {
      "cell_type": "code",
      "execution_count": null,
      "metadata": {
        "id": "tZJXZXW3HBIr"
      },
      "outputs": [],
      "source": [
        "import pandas as pd\n",
        "from transformers import pipeline\n",
        "\n",
        "# Load the dataset\n",
        "file_path = 'updated_customer_feedback.csv'\n",
        "data = pd.read_csv(file_path)\n",
        "\n",
        "# Load Hugging Face pipelines\n",
        "sentiment_analyzer = pipeline(\"sentiment-analysis\", model=\"distilbert-base-uncased-finetuned-sst-2-english\")\n",
        "area_classifier = pipeline(\"zero-shot-classification\", model=\"facebook/bart-large-mnli\")\n",
        "\n",
        "# Define candidate labels for area classification\n",
        "area_labels = [\"Dining\", \"Reception\", \"Facilities\", \"Cleanliness\", \"General\"]\n",
        "\n",
        "# Function to classify sentiment using Hugging Face\n",
        "def classify_sentiment(feedback):\n",
        "    result = sentiment_analyzer(feedback)[0]\n",
        "    label = result['label']\n",
        "    if label == \"NEGATIVE\":\n",
        "        return \"Negative\"\n",
        "    elif label == \"POSITIVE\":\n",
        "        return \"Positive\"\n",
        "    else:\n",
        "        return \"Neutral\"\n",
        "\n",
        "# Function to classify area using zero-shot classification\n",
        "def classify_area_llm(feedback):\n",
        "    result = area_classifier(feedback, candidate_labels=area_labels)\n",
        "    return result['labels'][0]  # Return the label with the highest score\n",
        "\n",
        "# Analyze the dataset\n",
        "def analyze_feedback(data):\n",
        "    results = []\n",
        "    for index, row in data.iterrows():\n",
        "        feedback = row[\"Reviews\"]\n",
        "        sentiment = classify_sentiment(feedback)\n",
        "        area = classify_area_llm(feedback)\n",
        "        results.append({\n",
        "            \"Feedback\": feedback,\n",
        "            \"Sentiment\": sentiment,\n",
        "            \"Area\": area\n",
        "        })\n",
        "    return pd.DataFrame(results)\n",
        "\n",
        "# Generate statistical view\n",
        "def generate_statistics(results_df):\n",
        "    sentiment_stats = results_df['Sentiment'].value_counts()\n",
        "    area_stats = results_df['Area'].value_counts()\n",
        "    print(\"Sentiment Statistics:\")\n",
        "    print(sentiment_stats)\n",
        "    print(\"\\nArea Statistics:\")\n",
        "    print(area_stats)\n",
        "    return sentiment_stats, area_stats\n",
        "\n",
        "# Main execution\n",
        "if __name__ == \"__main__\":\n",
        "    # Analyze the data\n",
        "    results_df = analyze_feedback(data)\n",
        "\n",
        "    # Generate statistics\n",
        "    sentiment_stats, area_stats = generate_statistics(results_df)\n",
        "\n",
        "    # Save results to CSV\n",
        "    output_csv_path = 'feedback_analysis_results.csv'\n",
        "    results_df.to_csv(output_csv_path, index=False)\n",
        "    print(f\"Results saved locally to {output_csv_path}\")\n",
        "\n",
        "    # Save results to JSON\n",
        "    output_json_path = 'feedback_analysis_results.json'\n",
        "    results_df.to_json(output_json_path, orient='records', lines=True, force_ascii=False)\n",
        "    print(f\"Results saved locally to {output_json_path}\")\n"
      ]
    }
  ]
}
